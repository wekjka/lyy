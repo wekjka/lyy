{
 "cells": [
  {
   "cell_type": "markdown",
   "metadata": {},
   "source": [
    "# 选择\n",
    "## 布尔类型、数值和表达式\n",
    "![](../Photo/33.png)\n",
    "- 注意：比较运算符的相等是两个等到，一个等到代表赋值\n",
    "- 在Python中可以用整型0来代表False，其他数字来代表True\n",
    "- 后面还会讲到 is 在判断语句中的用发"
   ]
  },
  {
   "cell_type": "code",
   "execution_count": 26,
   "metadata": {},
   "outputs": [],
   "source": [
    "money = 500"
   ]
  },
  {
   "cell_type": "code",
   "execution_count": 29,
   "metadata": {},
   "outputs": [
    {
     "name": "stdout",
     "output_type": "stream",
     "text": [
      "输入取钱数量：20\n",
      "ok\n",
      "剩余的钱数 -20\n"
     ]
    }
   ],
   "source": [
    "a = eval(input('输入取钱数量：'))\n",
    "if a <= 500:\n",
    "    print('ok')\n",
    "    b = money - a \n",
    "    money = b\n",
    "    print('剩余的钱数',b)\n",
    "else :\n",
    "    print('失败，余额不足')\n",
    "\n",
    "   \n",
    "    "
   ]
  },
  {
   "cell_type": "markdown",
   "metadata": {},
   "source": [
    "## 字符串的比较使用ASCII值"
   ]
  },
  {
   "cell_type": "markdown",
   "metadata": {},
   "source": [
    "## Markdown \n",
    "- https://github.com/younghz/Markdown"
   ]
  },
  {
   "cell_type": "markdown",
   "metadata": {},
   "source": [
    "## EP:\n",
    "- <img src=\"../Photo/34.png\"></img>\n",
    "- 输入一个数字，判断其实奇数还是偶数"
   ]
  },
  {
   "cell_type": "markdown",
   "metadata": {},
   "source": [
    "## 产生随机数字\n",
    "- 函数random.randint(a,b) 可以用来产生一个a和b之间且包括a和b的随机整数"
   ]
  },
  {
   "cell_type": "markdown",
   "metadata": {},
   "source": [
    "##  其他random方法\n",
    "- random.random 返回0.0到1.0之间前闭后开区间的随机浮点\n",
    "- random.randrange(a,b) 前闭后开"
   ]
  },
  {
   "cell_type": "markdown",
   "metadata": {},
   "source": [
    "## EP：\n",
    "- 产生两个随机整数number1和number2，然后显示给用户，使用户输入数字的和，并判定其是否正确\n",
    "- 进阶:写一个随机序号点名程序"
   ]
  },
  {
   "cell_type": "code",
   "execution_count": 63,
   "metadata": {},
   "outputs": [
    {
     "name": "stdout",
     "output_type": "stream",
     "text": [
      "6\n",
      "4\n",
      "输入a+b的值:6\n",
      "错误\n"
     ]
    }
   ],
   "source": [
    "import random\n",
    "a = random.randint(0,10)\n",
    "b = random.randint(0,10)\n",
    "print (a)\n",
    "print (b)\n",
    "number = eval(input('输入a+b的值:'))\n",
    "if number == a+b :\n",
    "    print ('正确')\n",
    "else :\n",
    "    print ('错误')"
   ]
  },
  {
   "cell_type": "code",
   "execution_count": 98,
   "metadata": {},
   "outputs": [
    {
     "name": "stdout",
     "output_type": "stream",
     "text": [
      "6\n",
      "4\n"
     ]
    }
   ],
   "source": [
    "import random\n",
    "h = random.randint(1,10)\n",
    "l = random.randint(1,5)\n",
    "print(h)\n",
    "print(l)"
   ]
  },
  {
   "cell_type": "markdown",
   "metadata": {},
   "source": [
    "## if语句\n",
    "- 如果条件正确就执行一个单向if语句，亦即当条件为真的时候才执行if内部的语句\n",
    "- Python有很多选择语句:\n",
    "> - 单向if \n",
    "  - 双向if-else\n",
    "  - 嵌套if\n",
    "  - 多向if-elif-else\n",
    "  \n",
    "- 注意：当语句含有子语句的时候，那么一定至少要有一个缩进，也就是说如果有儿子存在，那么一定要缩进\n",
    "- 切记不可tab键和space混用，单用tab 或者 space\n",
    "- 当你输出的结果是无论if是否为真时都需要显示时，语句应该与if对齐"
   ]
  },
  {
   "cell_type": "markdown",
   "metadata": {},
   "source": [
    "## EP：\n",
    "- 用户输入一个数字，判断其实奇数还是偶数\n",
    "- 进阶：可以查看下4.5实例研究猜生日"
   ]
  },
  {
   "cell_type": "code",
   "execution_count": 103,
   "metadata": {},
   "outputs": [
    {
     "name": "stdout",
     "output_type": "stream",
     "text": [
      "输入一个数：5\n",
      "js\n"
     ]
    }
   ],
   "source": [
    "num = eval(input('输入一个数：'))\n",
    "if num %2 == 0:\n",
    "    print('os')\n",
    "else :\n",
    "    print('js')"
   ]
  },
  {
   "cell_type": "code",
   "execution_count": 100,
   "metadata": {},
   "outputs": [
    {
     "name": "stdout",
     "output_type": "stream",
     "text": [
      "输入你的成绩：78\n",
      "C\n"
     ]
    }
   ],
   "source": [
    "cj = eval(input('输入你的成绩：'))\n",
    "if cj >= 90 :\n",
    "    print('A')\n",
    "elif  80 < cj <= 90:\n",
    "    print('B')\n",
    "elif  70 < cj <= 80:\n",
    "    print('C')\n",
    "elif  60 < cj <= 70:\n",
    "    print('D')\n",
    "else :\n",
    "    print('不及格')"
   ]
  },
  {
   "cell_type": "code",
   "execution_count": null,
   "metadata": {},
   "outputs": [],
   "source": []
  },
  {
   "cell_type": "markdown",
   "metadata": {},
   "source": [
    "## 双向if-else 语句\n",
    "- 如果条件为真，那么走if内部语句，否则走else内部语句"
   ]
  },
  {
   "cell_type": "markdown",
   "metadata": {},
   "source": [
    "## EP：\n",
    "- 产生两个随机整数number1和number2，然后显示给用户，使用户输入数字，并判定其是否正确,如果正确打印“you‘re correct”，否则打印正确错误"
   ]
  },
  {
   "cell_type": "markdown",
   "metadata": {},
   "source": [
    "## 嵌套if 和多向if-elif-else\n",
    "![](../Photo/35.png)"
   ]
  },
  {
   "cell_type": "markdown",
   "metadata": {},
   "source": [
    "## EP：\n",
    "- 提示用户输入一个年份，然后显示表示这一年的动物\n",
    "![](../Photo/36.png)\n",
    "- 计算身体质量指数的程序\n",
    "- BMI = 以千克为单位的体重除以以米为单位的身高\n",
    "![](../Photo/37.png)"
   ]
  },
  {
   "cell_type": "code",
   "execution_count": 111,
   "metadata": {},
   "outputs": [
    {
     "name": "stdout",
     "output_type": "stream",
     "text": [
      "输入您的体重：75\n",
      "输入你的身高：1.78\n",
      "标准\n"
     ]
    }
   ],
   "source": [
    "kg = eval(input('输入您的体重：'))\n",
    "m = eval(input('输入你的身高：'))\n",
    "BMI = kg / (m * m)\n",
    "if BMI < 18.5:\n",
    "    print('超轻')\n",
    "elif 18.5<= BMI < 25.0 :\n",
    "    print('标准')\n",
    "elif 25.0 <= BMI < 30.0 :\n",
    "    print('超重')\n",
    "elif BMI >= 30.0 :\n",
    "    print('痴肥','再不减肥就GG了')"
   ]
  },
  {
   "cell_type": "code",
   "execution_count": 104,
   "metadata": {},
   "outputs": [
    {
     "name": "stdout",
     "output_type": "stream",
     "text": [
      "输入年份：2\n",
      "狗\n"
     ]
    }
   ],
   "source": [
    "year = eval(input('输入年份：'))\n",
    "if year == 0:\n",
    "    print('猴')\n",
    "elif year ==1:\n",
    "    print('鸡')\n",
    "elif year ==2:\n",
    "    print('狗')\n",
    "elif year ==3:\n",
    "    print('猪')\n",
    "elif year ==4:\n",
    "    print('鼠')\n",
    "elif year ==5:\n",
    "    print('牛')\n",
    "elif year ==6:\n",
    "    print('虎')\n",
    "elif year ==7:\n",
    "    print('兔')\n",
    "elif year ==8:\n",
    "    print('龙')\n",
    "elif year ==9:\n",
    "    print('蛇')\n",
    "elif year ==10:\n",
    "    print('马')\n",
    "elif year ==11:\n",
    "    print('羊')\n"
   ]
  },
  {
   "cell_type": "markdown",
   "metadata": {},
   "source": [
    "## 逻辑运算符\n",
    "![](../Photo/38.png)"
   ]
  },
  {
   "cell_type": "markdown",
   "metadata": {},
   "source": [
    "![](../Photo/39.png)\n",
    "![](../Photo/40.png)"
   ]
  },
  {
   "cell_type": "markdown",
   "metadata": {},
   "source": [
    "## EP：\n",
    "- 判定闰年：一个年份如果能被4整除但不能被100整除，或者能被400整除，那么这个年份就是闰年\n",
    "- 提示用户输入一个年份，并返回是否是闰年\n",
    "- 提示用户输入一个数字，判断其是否为水仙花数"
   ]
  },
  {
   "cell_type": "code",
   "execution_count": 130,
   "metadata": {},
   "outputs": [
    {
     "name": "stdout",
     "output_type": "stream",
     "text": [
      "输入年份：2012\n",
      "runnain\n"
     ]
    }
   ],
   "source": [
    "year = eval(input('输入年份：'))\n",
    "if (year % 4 ==0 and (year % 100 !=0)) or year % 400 == 0 :\n",
    "    print('runnain')\n",
    "else :\n",
    "    print('not runnian')"
   ]
  },
  {
   "cell_type": "code",
   "execution_count": 133,
   "metadata": {},
   "outputs": [
    {
     "name": "stdout",
     "output_type": "stream",
     "text": [
      "请输入最大范围10000\n",
      "153\n",
      "370\n",
      "371\n",
      "407\n",
      "1634\n",
      "8208\n",
      "9474\n"
     ]
    }
   ],
   "source": [
    "max_num = int(input('请输入最大范围'))\n",
    "# 获取小于指定数的阿姆斯特朗数\n",
    "for num in range(100, max_num):\n",
    "    sum = 0\n",
    "    length = len(str(num))\n",
    "    temp = num\n",
    "    for i in range(length):\n",
    "        sum += (temp % 10) ** length\n",
    "        temp //= 10\n",
    "    if sum == num:\n",
    "        print(num)"
   ]
  },
  {
   "cell_type": "markdown",
   "metadata": {},
   "source": [
    "## 实例研究：彩票\n",
    "![](../Photo/41.png)"
   ]
  },
  {
   "cell_type": "code",
   "execution_count": 147,
   "metadata": {},
   "outputs": [
    {
     "ename": "TypeError",
     "evalue": "'str' object is not callable",
     "output_type": "error",
     "traceback": [
      "\u001b[1;31m---------------------------------------------------------------------------\u001b[0m",
      "\u001b[1;31mTypeError\u001b[0m                                 Traceback (most recent call last)",
      "\u001b[1;32m<ipython-input-147-b6244ea44cc6>\u001b[0m in \u001b[0;36m<module>\u001b[1;34m()\u001b[0m\n\u001b[0;32m      1\u001b[0m \u001b[1;32mimport\u001b[0m \u001b[0mrandom\u001b[0m\u001b[1;33m\u001b[0m\u001b[0m\n\u001b[1;32m----> 2\u001b[1;33m \u001b[0ma\u001b[0m \u001b[1;33m=\u001b[0m \u001b[0mstr\u001b[0m\u001b[1;33m(\u001b[0m\u001b[0mrandom\u001b[0m\u001b[1;33m.\u001b[0m\u001b[0mrandint\u001b[0m\u001b[1;33m(\u001b[0m\u001b[1;36m0\u001b[0m\u001b[1;33m,\u001b[0m\u001b[1;36m10\u001b[0m\u001b[1;33m)\u001b[0m\u001b[1;33m)\u001b[0m\u001b[1;33m\u001b[0m\u001b[0m\n\u001b[0m\u001b[0;32m      3\u001b[0m \u001b[0mb\u001b[0m \u001b[1;33m=\u001b[0m \u001b[0mstr\u001b[0m\u001b[1;33m(\u001b[0m\u001b[0mrandom\u001b[0m\u001b[1;33m.\u001b[0m\u001b[0mrandint\u001b[0m\u001b[1;33m(\u001b[0m\u001b[1;36m0\u001b[0m\u001b[1;33m,\u001b[0m\u001b[1;36m10\u001b[0m\u001b[1;33m)\u001b[0m\u001b[1;33m)\u001b[0m\u001b[1;33m\u001b[0m\u001b[0m\n\u001b[0;32m      4\u001b[0m \u001b[0mstr\u001b[0m \u001b[1;33m=\u001b[0m \u001b[0ma\u001b[0m \u001b[1;33m+\u001b[0m \u001b[0mb\u001b[0m\u001b[1;33m\u001b[0m\u001b[0m\n\u001b[0;32m      5\u001b[0m \u001b[0mnum\u001b[0m \u001b[1;33m=\u001b[0m \u001b[0mstr\u001b[0m\u001b[1;33m(\u001b[0m\u001b[0meval\u001b[0m\u001b[1;33m(\u001b[0m\u001b[0minput\u001b[0m\u001b[1;33m(\u001b[0m\u001b[1;34m'输入一个两位数：'\u001b[0m\u001b[1;33m)\u001b[0m\u001b[1;33m)\u001b[0m\u001b[1;33m)\u001b[0m\u001b[1;33m\u001b[0m\u001b[0m\n",
      "\u001b[1;31mTypeError\u001b[0m: 'str' object is not callable"
     ]
    }
   ],
   "source": [
    "import random\n",
    "a = str(random.randint(0,10))\n",
    "b = str(random.randint(0,10))\n",
    "str = a + b\n",
    "num = str(eval(input('输入一个两位数：')))\n",
    "if num == str :\n",
    "    print('奖励10000￥')"
   ]
  },
  {
   "cell_type": "code",
   "execution_count": 153,
   "metadata": {},
   "outputs": [
    {
     "data": {
      "text/plain": [
       "9"
      ]
     },
     "execution_count": 153,
     "metadata": {},
     "output_type": "execute_result"
    }
   ],
   "source": [
    "65 % 56"
   ]
  },
  {
   "cell_type": "markdown",
   "metadata": {},
   "source": [
    "# Homework\n",
    "- 1\n",
    "![](../Photo/42.png)"
   ]
  },
  {
   "cell_type": "code",
   "execution_count": 200,
   "metadata": {},
   "outputs": [
    {
     "name": "stdout",
     "output_type": "stream",
     "text": [
      "Enter a,b,c:1,2.0,1\n",
      "The root is  -1.0\n"
     ]
    }
   ],
   "source": [
    "import math\n",
    "a,b,c = eval(input('Enter a,b,c:'))\n",
    "\n",
    "if b*b -4*a*c > 0 :\n",
    "    r1 = (-b + math.sqrt(b*b - 4*a*c)) / (2*a)\n",
    "    r2 = (-b - math.sqrt(b*b - 4*a*c)) / (2*a)\n",
    "    print('The roots are ',r1,'and',r2)\n",
    "elif b*b - 4*a*c ==0:\n",
    "    r=r1=r2\n",
    "    print('The root is ',r)\n",
    "elif b*b - 4*a*c < 0:\n",
    "    print('The equation has no real roots')\n",
    "    \n",
    "    "
   ]
  },
  {
   "cell_type": "markdown",
   "metadata": {},
   "source": [
    "- 2\n",
    "![](../Photo/43.png)"
   ]
  },
  {
   "cell_type": "code",
   "execution_count": 204,
   "metadata": {},
   "outputs": [
    {
     "name": "stdout",
     "output_type": "stream",
     "text": [
      "输入和为：48\n",
      "false\n"
     ]
    }
   ],
   "source": [
    "import random\n",
    "a = random.randint(0,100)\n",
    "b = random.randint(0,100)\n",
    "c = a + b\n",
    "num = eval(input('输入和为：'))\n",
    "if num == c :\n",
    "    print('true')\n",
    "else :\n",
    "    print('false')"
   ]
  },
  {
   "cell_type": "markdown",
   "metadata": {},
   "source": [
    "- 3\n",
    "![](../Photo/44.png)"
   ]
  },
  {
   "cell_type": "code",
   "execution_count": 210,
   "metadata": {},
   "outputs": [
    {
     "name": "stdout",
     "output_type": "stream",
     "text": [
      "Enter today :0\n",
      "Enter the number of days elapsed since today:31\n",
      "today is  0 and the future day is  Wednesday\n"
     ]
    }
   ],
   "source": [
    "today = eval(input('Enter today :'))\n",
    "later = eval(input('Enter the number of days elapsed since today:'))\n",
    "x = (today + later) % 7 \n",
    "xx  = ['Sunday','Monday','Tuesday','Wednesday','Thursday','Friday','Saturday']\n",
    "print ('today is ',today,'and the future day is ',xx[x])"
   ]
  },
  {
   "cell_type": "markdown",
   "metadata": {},
   "source": [
    "- 4\n",
    "![](../Photo/45.png)"
   ]
  },
  {
   "cell_type": "code",
   "execution_count": 212,
   "metadata": {},
   "outputs": [
    {
     "name": "stdout",
     "output_type": "stream",
     "text": [
      "输入a,b,c5,7,6\n",
      "[5, 6, 7]\n"
     ]
    }
   ],
   "source": [
    "a,b,c = eval(input('输入a,b,c'))\n",
    "q = [a,b,c]\n",
    "q.sort()\n",
    "print (q)"
   ]
  },
  {
   "cell_type": "markdown",
   "metadata": {},
   "source": [
    "- 5\n",
    "![](../Photo/46.png)"
   ]
  },
  {
   "cell_type": "code",
   "execution_count": 219,
   "metadata": {},
   "outputs": [
    {
     "name": "stdout",
     "output_type": "stream",
     "text": [
      "Enter weight and price 1 for package:50,24.59\n",
      "Enter weight and price 2 for package:25,11.99\n",
      "package 2 has the better price\n"
     ]
    }
   ],
   "source": [
    "kg1,mon1 = eval(input('Enter weight and price 1 for package:'))\n",
    "kg2,mon2 = eval(input('Enter weight and price 2 for package:'))\n",
    "if (kg1 / mon1) > (kg2 / mon2):\n",
    "    print('package 1 has the better price')\n",
    "elif (kg1 / mon1) < (kg2 / mon2):\n",
    "    print('package 2 has the better price')\n",
    "elif (kg1 / mon1) == (kg2 / mon2):\n",
    "    print('both ok')\n"
   ]
  },
  {
   "cell_type": "markdown",
   "metadata": {},
   "source": [
    "- 6\n",
    "![](../Photo/47.png)"
   ]
  },
  {
   "cell_type": "code",
   "execution_count": 234,
   "metadata": {},
   "outputs": [
    {
     "name": "stdout",
     "output_type": "stream",
     "text": [
      "输入月，年:3,2005\n",
      "2005 年 3 月31天\n"
     ]
    }
   ],
   "source": [
    "month,year = eval(input('输入月，年:'))\n",
    "if month == 2 and  ((year % 4 ==0 and year % 100 !=0) or (year % 400 == 0)):\n",
    "    print(year,'年',month,'月28天')\n",
    "elif (month == 1,3,5,7,8,10,12) :\n",
    "    print(year,'年',month,'月31天')\n",
    "elif (month == 4,6,9,11) :\n",
    "    print(year,'年',month,'月30天')"
   ]
  },
  {
   "cell_type": "markdown",
   "metadata": {},
   "source": [
    "- 7\n",
    "![](../Photo/48.png)"
   ]
  },
  {
   "cell_type": "code",
   "execution_count": 239,
   "metadata": {},
   "outputs": [
    {
     "name": "stdout",
     "output_type": "stream",
     "text": [
      "输入0或1:0\n",
      "错误\n"
     ]
    }
   ],
   "source": [
    "import random\n",
    "a = random.randint(0,1)\n",
    "num = eval(input('输入0或1:'))\n",
    "if num == a:\n",
    "    print('正确')\n",
    "else :\n",
    "    print('错误')"
   ]
  },
  {
   "cell_type": "markdown",
   "metadata": {},
   "source": [
    "- 8\n",
    "![](../Photo/49.png)"
   ]
  },
  {
   "cell_type": "code",
   "execution_count": null,
   "metadata": {},
   "outputs": [],
   "source": [
    "import random\n",
    "x = random.randint(0,2)\n",
    "a = eval(input('输入一个0-2之间的数：'))\n",
    "if (a == x) and a =  \n"
   ]
  },
  {
   "cell_type": "markdown",
   "metadata": {},
   "source": [
    "- 9\n",
    "![](../Photo/50.png)"
   ]
  },
  {
   "cell_type": "code",
   "execution_count": 256,
   "metadata": {},
   "outputs": [
    {
     "name": "stdout",
     "output_type": "stream",
     "text": [
      "输入年份：2012\n",
      "输入月份：5\n",
      "输入当前月份的某天：12\n",
      "Day of the week is 星期六\n"
     ]
    }
   ],
   "source": [
    "year = eval(input('输入年份：'))\n",
    "months = eval(input('输入月份：'))\n",
    "days = eval(input('输入当前月份的某天：'))\n",
    "hdayDict = {0:'星期六',1:'星期日', 2: '星期一', 3: '星期二', 4: '星期三', 5: '星期四', 6: '星期五'}\n",
    "monDict = {1: '13', 2: '14', 3: '3', 4: '4', 5: '5', 6: '6', 7: '7', 8: '8', 9: '9', 10: '10', \\\n",
    "             11: '11', 12: '12'}\n",
    "if months == 1 or months == 2:\n",
    "    year = year - 1 \n",
    "shijishu = year // 100\n",
    "shijiyear = year % 100\n",
    "h = (days + (26 * (eval(monDict[months]) + 1)) // 10 + shijiyear + shijiyear // 4 + shijishu // 4 + 5 * shijishu) % 7\n",
    "print('Day of the week is ' + hdayDict[h])"
   ]
  },
  {
   "cell_type": "markdown",
   "metadata": {},
   "source": [
    "- 10\n",
    "![](../Photo/51.png)"
   ]
  },
  {
   "cell_type": "code",
   "execution_count": 281,
   "metadata": {},
   "outputs": [
    {
     "name": "stdout",
     "output_type": "stream",
     "text": [
      "['King'] ['梅花']\n"
     ]
    }
   ],
   "source": [
    "import random\n",
    "x = ['Ace','2','3','4','5','6','7','8','9','10','Jack','Queen','King']\n",
    "y = random.sample(x,1)\n",
    "z = ['梅花','红桃','方块','黑桃']\n",
    "g = random.sample(z,1)\n",
    "print(y,g)"
   ]
  },
  {
   "cell_type": "markdown",
   "metadata": {},
   "source": [
    "- 11\n",
    "![](../Photo/52.png)"
   ]
  },
  {
   "cell_type": "code",
   "execution_count": 282,
   "metadata": {},
   "outputs": [
    {
     "name": "stdout",
     "output_type": "stream",
     "text": [
      "输入一个三位数：121\n",
      "121 is a palindrome\n"
     ]
    }
   ],
   "source": [
    "num = eval(input('输入一个三位数：'))\n",
    "if (num //100) == (num %10):\n",
    "    print(num,'is a palindrome')\n",
    "elif (num //100) != (num %10):\n",
    "     print(num,'is not a palindrome')"
   ]
  },
  {
   "cell_type": "markdown",
   "metadata": {},
   "source": [
    "- 12\n",
    "![](../Photo/53.png)"
   ]
  },
  {
   "cell_type": "code",
   "execution_count": 289,
   "metadata": {},
   "outputs": [
    {
     "name": "stdout",
     "output_type": "stream",
     "text": [
      "a,b,c:1,3,5\n",
      "非法的\n"
     ]
    }
   ],
   "source": [
    "a,b,c = eval(input('a,b,c:'))\n",
    "if (a+b > c) and (a+c > b ) and (b+c > a ):\n",
    "    print ('合法')\n",
    "    print('The perimeter',a+b+c)\n",
    "elif   (a+b< c) or (a+c <b) or (b+c < a)  :\n",
    "    print('非法的')\n",
    "    "
   ]
  }
 ],
 "metadata": {
  "kernelspec": {
   "display_name": "Python 3",
   "language": "python",
   "name": "python3"
  },
  "language_info": {
   "codemirror_mode": {
    "name": "ipython",
    "version": 3
   },
   "file_extension": ".py",
   "mimetype": "text/x-python",
   "name": "python",
   "nbconvert_exporter": "python",
   "pygments_lexer": "ipython3",
   "version": "3.6.4"
  }
 },
 "nbformat": 4,
 "nbformat_minor": 2
}
